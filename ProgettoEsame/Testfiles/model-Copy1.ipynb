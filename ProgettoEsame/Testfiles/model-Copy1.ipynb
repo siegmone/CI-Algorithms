{
 "cells": [
  {
   "cell_type": "code",
   "execution_count": 1,
   "id": "faf4b946",
   "metadata": {
    "scrolled": true
   },
   "outputs": [],
   "source": [
    "import tensorflow as tf\n",
    "from tensorflow import keras\n",
    "from tensorflow.keras.datasets import mnist\n",
    "from tensorflow.keras.models import Sequential\n",
    "from tensorflow.keras.layers import Dense, Dropout, Flatten\n",
    "from tensorflow.keras.layers import Conv1D, MaxPooling1D\n",
    "from tensorflow.keras.layers import BatchNormalization\n",
    "from tensorflow.keras.metrics import categorical_accuracy\n",
    "from tensorflow.keras.callbacks import ModelCheckpoint\n",
    "from tensorflow.keras.utils import to_categorical\n",
    "from sklearn.metrics import plot_confusion_matrix\n",
    "from sklearn import metrics\n",
    "import numpy as np\n",
    "import pandas as pd\n",
    "import matplotlib.pyplot as plt\n",
    "from pathlib import Path\n",
    "import os\n",
    "import datetime"
   ]
  },
  {
   "cell_type": "code",
   "execution_count": 2,
   "id": "930d08aa",
   "metadata": {},
   "outputs": [],
   "source": [
    "%matplotlib widget\n",
    "plt.style.use('seaborn-whitegrid')"
   ]
  },
  {
   "cell_type": "code",
   "execution_count": 3,
   "id": "b0542a18",
   "metadata": {},
   "outputs": [],
   "source": [
    "### CNN ###\n",
    "DATA_SPLIT_PERC = 0.9\n",
    "CHANNELS_CNN = 1\n",
    "BATCH_SIZE = 4\n",
    "EPOCHS = 10\n",
    "\n",
    "### System ###\n",
    "checkpoint_str = f\"test/cp_ep{EPOCHS}_bsize{BATCH_SIZE}_adam.ckpt\"\n",
    "checkpoint_path = Path(checkpoint_str)\n",
    "log_dir = \"logs/fit/\" + datetime.datetime.now().strftime(\"%Y%m%d-%H%M%S\")\n",
    "\n",
    "# Make sure not to overwrite existing models\n",
    "try:\n",
    "    if len(os.listdir(checkpoint_path)) > 0:\n",
    "        checkpoint_str += '_'\n",
    "except FileNotFoundError:\n",
    "    pass"
   ]
  },
  {
   "cell_type": "code",
   "execution_count": 4,
   "id": "e56fa9eb",
   "metadata": {},
   "outputs": [
    {
     "name": "stdout",
     "output_type": "stream",
     "text": [
      "0 : sensor_readings_2.data\n",
      "1 : sensor_readings_4.data\n",
      "2 : sensor_readings_24.data\n",
      "Select dataset: 2\n"
     ]
    },
    {
     "data": {
      "text/html": [
       "<div>\n",
       "<style scoped>\n",
       "    .dataframe tbody tr th:only-of-type {\n",
       "        vertical-align: middle;\n",
       "    }\n",
       "\n",
       "    .dataframe tbody tr th {\n",
       "        vertical-align: top;\n",
       "    }\n",
       "\n",
       "    .dataframe thead th {\n",
       "        text-align: right;\n",
       "    }\n",
       "</style>\n",
       "<table border=\"1\" class=\"dataframe\">\n",
       "  <thead>\n",
       "    <tr style=\"text-align: right;\">\n",
       "      <th></th>\n",
       "      <th>0</th>\n",
       "      <th>1</th>\n",
       "      <th>2</th>\n",
       "      <th>3</th>\n",
       "      <th>4</th>\n",
       "      <th>5</th>\n",
       "      <th>6</th>\n",
       "      <th>7</th>\n",
       "      <th>8</th>\n",
       "      <th>9</th>\n",
       "      <th>...</th>\n",
       "      <th>15</th>\n",
       "      <th>16</th>\n",
       "      <th>17</th>\n",
       "      <th>18</th>\n",
       "      <th>19</th>\n",
       "      <th>20</th>\n",
       "      <th>21</th>\n",
       "      <th>22</th>\n",
       "      <th>23</th>\n",
       "      <th>24</th>\n",
       "    </tr>\n",
       "  </thead>\n",
       "  <tbody>\n",
       "    <tr>\n",
       "      <th>0</th>\n",
       "      <td>0.438</td>\n",
       "      <td>0.498</td>\n",
       "      <td>3.625</td>\n",
       "      <td>3.645</td>\n",
       "      <td>5.000</td>\n",
       "      <td>2.918</td>\n",
       "      <td>5.000</td>\n",
       "      <td>2.351</td>\n",
       "      <td>2.332</td>\n",
       "      <td>2.643</td>\n",
       "      <td>...</td>\n",
       "      <td>0.593</td>\n",
       "      <td>0.502</td>\n",
       "      <td>0.493</td>\n",
       "      <td>0.504</td>\n",
       "      <td>0.445</td>\n",
       "      <td>0.431</td>\n",
       "      <td>0.444</td>\n",
       "      <td>0.440</td>\n",
       "      <td>0.429</td>\n",
       "      <td>Slight-Right-Turn</td>\n",
       "    </tr>\n",
       "    <tr>\n",
       "      <th>1</th>\n",
       "      <td>0.438</td>\n",
       "      <td>0.498</td>\n",
       "      <td>3.625</td>\n",
       "      <td>3.648</td>\n",
       "      <td>5.000</td>\n",
       "      <td>2.918</td>\n",
       "      <td>5.000</td>\n",
       "      <td>2.637</td>\n",
       "      <td>2.332</td>\n",
       "      <td>2.649</td>\n",
       "      <td>...</td>\n",
       "      <td>0.592</td>\n",
       "      <td>0.502</td>\n",
       "      <td>0.493</td>\n",
       "      <td>0.504</td>\n",
       "      <td>0.449</td>\n",
       "      <td>0.431</td>\n",
       "      <td>0.444</td>\n",
       "      <td>0.443</td>\n",
       "      <td>0.429</td>\n",
       "      <td>Slight-Right-Turn</td>\n",
       "    </tr>\n",
       "    <tr>\n",
       "      <th>2</th>\n",
       "      <td>0.438</td>\n",
       "      <td>0.498</td>\n",
       "      <td>3.625</td>\n",
       "      <td>3.629</td>\n",
       "      <td>5.000</td>\n",
       "      <td>2.918</td>\n",
       "      <td>5.000</td>\n",
       "      <td>2.637</td>\n",
       "      <td>2.334</td>\n",
       "      <td>2.643</td>\n",
       "      <td>...</td>\n",
       "      <td>0.593</td>\n",
       "      <td>0.502</td>\n",
       "      <td>0.493</td>\n",
       "      <td>0.504</td>\n",
       "      <td>0.449</td>\n",
       "      <td>0.431</td>\n",
       "      <td>0.444</td>\n",
       "      <td>0.446</td>\n",
       "      <td>0.429</td>\n",
       "      <td>Slight-Right-Turn</td>\n",
       "    </tr>\n",
       "    <tr>\n",
       "      <th>3</th>\n",
       "      <td>0.437</td>\n",
       "      <td>0.501</td>\n",
       "      <td>3.625</td>\n",
       "      <td>3.626</td>\n",
       "      <td>5.000</td>\n",
       "      <td>2.918</td>\n",
       "      <td>5.000</td>\n",
       "      <td>2.353</td>\n",
       "      <td>2.334</td>\n",
       "      <td>2.642</td>\n",
       "      <td>...</td>\n",
       "      <td>0.593</td>\n",
       "      <td>0.502</td>\n",
       "      <td>0.493</td>\n",
       "      <td>0.504</td>\n",
       "      <td>0.449</td>\n",
       "      <td>0.431</td>\n",
       "      <td>0.444</td>\n",
       "      <td>0.444</td>\n",
       "      <td>0.429</td>\n",
       "      <td>Slight-Right-Turn</td>\n",
       "    </tr>\n",
       "    <tr>\n",
       "      <th>4</th>\n",
       "      <td>0.438</td>\n",
       "      <td>0.498</td>\n",
       "      <td>3.626</td>\n",
       "      <td>3.629</td>\n",
       "      <td>5.000</td>\n",
       "      <td>2.918</td>\n",
       "      <td>5.000</td>\n",
       "      <td>2.640</td>\n",
       "      <td>2.334</td>\n",
       "      <td>2.639</td>\n",
       "      <td>...</td>\n",
       "      <td>0.592</td>\n",
       "      <td>0.502</td>\n",
       "      <td>0.493</td>\n",
       "      <td>0.504</td>\n",
       "      <td>0.449</td>\n",
       "      <td>0.431</td>\n",
       "      <td>0.444</td>\n",
       "      <td>0.441</td>\n",
       "      <td>0.429</td>\n",
       "      <td>Slight-Right-Turn</td>\n",
       "    </tr>\n",
       "    <tr>\n",
       "      <th>...</th>\n",
       "      <td>...</td>\n",
       "      <td>...</td>\n",
       "      <td>...</td>\n",
       "      <td>...</td>\n",
       "      <td>...</td>\n",
       "      <td>...</td>\n",
       "      <td>...</td>\n",
       "      <td>...</td>\n",
       "      <td>...</td>\n",
       "      <td>...</td>\n",
       "      <td>...</td>\n",
       "      <td>...</td>\n",
       "      <td>...</td>\n",
       "      <td>...</td>\n",
       "      <td>...</td>\n",
       "      <td>...</td>\n",
       "      <td>...</td>\n",
       "      <td>...</td>\n",
       "      <td>...</td>\n",
       "      <td>...</td>\n",
       "      <td>...</td>\n",
       "    </tr>\n",
       "    <tr>\n",
       "      <th>5451</th>\n",
       "      <td>0.910</td>\n",
       "      <td>5.000</td>\n",
       "      <td>3.997</td>\n",
       "      <td>2.785</td>\n",
       "      <td>2.770</td>\n",
       "      <td>2.572</td>\n",
       "      <td>2.433</td>\n",
       "      <td>1.087</td>\n",
       "      <td>1.772</td>\n",
       "      <td>1.040</td>\n",
       "      <td>...</td>\n",
       "      <td>0.660</td>\n",
       "      <td>0.648</td>\n",
       "      <td>0.657</td>\n",
       "      <td>0.686</td>\n",
       "      <td>5.000</td>\n",
       "      <td>1.045</td>\n",
       "      <td>5.000</td>\n",
       "      <td>5.000</td>\n",
       "      <td>1.562</td>\n",
       "      <td>Move-Forward</td>\n",
       "    </tr>\n",
       "    <tr>\n",
       "      <th>5452</th>\n",
       "      <td>0.926</td>\n",
       "      <td>5.000</td>\n",
       "      <td>4.015</td>\n",
       "      <td>2.792</td>\n",
       "      <td>2.777</td>\n",
       "      <td>2.571</td>\n",
       "      <td>1.768</td>\n",
       "      <td>1.071</td>\n",
       "      <td>1.762</td>\n",
       "      <td>1.021</td>\n",
       "      <td>...</td>\n",
       "      <td>0.652</td>\n",
       "      <td>0.640</td>\n",
       "      <td>0.649</td>\n",
       "      <td>1.593</td>\n",
       "      <td>1.616</td>\n",
       "      <td>1.058</td>\n",
       "      <td>5.000</td>\n",
       "      <td>5.000</td>\n",
       "      <td>1.085</td>\n",
       "      <td>Sharp-Right-Turn</td>\n",
       "    </tr>\n",
       "    <tr>\n",
       "      <th>5453</th>\n",
       "      <td>0.937</td>\n",
       "      <td>5.000</td>\n",
       "      <td>4.034</td>\n",
       "      <td>2.799</td>\n",
       "      <td>2.784</td>\n",
       "      <td>2.571</td>\n",
       "      <td>1.754</td>\n",
       "      <td>1.053</td>\n",
       "      <td>1.752</td>\n",
       "      <td>1.002</td>\n",
       "      <td>...</td>\n",
       "      <td>0.648</td>\n",
       "      <td>0.633</td>\n",
       "      <td>0.642</td>\n",
       "      <td>0.741</td>\n",
       "      <td>5.000</td>\n",
       "      <td>1.065</td>\n",
       "      <td>5.000</td>\n",
       "      <td>5.000</td>\n",
       "      <td>1.105</td>\n",
       "      <td>Sharp-Right-Turn</td>\n",
       "    </tr>\n",
       "    <tr>\n",
       "      <th>5454</th>\n",
       "      <td>0.945</td>\n",
       "      <td>4.052</td>\n",
       "      <td>4.052</td>\n",
       "      <td>2.809</td>\n",
       "      <td>2.791</td>\n",
       "      <td>2.441</td>\n",
       "      <td>1.757</td>\n",
       "      <td>1.034</td>\n",
       "      <td>1.743</td>\n",
       "      <td>0.983</td>\n",
       "      <td>...</td>\n",
       "      <td>0.641</td>\n",
       "      <td>0.626</td>\n",
       "      <td>0.635</td>\n",
       "      <td>0.754</td>\n",
       "      <td>5.000</td>\n",
       "      <td>1.076</td>\n",
       "      <td>5.000</td>\n",
       "      <td>5.000</td>\n",
       "      <td>1.118</td>\n",
       "      <td>Move-Forward</td>\n",
       "    </tr>\n",
       "    <tr>\n",
       "      <th>5455</th>\n",
       "      <td>0.950</td>\n",
       "      <td>4.066</td>\n",
       "      <td>5.000</td>\n",
       "      <td>2.819</td>\n",
       "      <td>2.798</td>\n",
       "      <td>2.570</td>\n",
       "      <td>2.422</td>\n",
       "      <td>1.016</td>\n",
       "      <td>1.739</td>\n",
       "      <td>0.964</td>\n",
       "      <td>...</td>\n",
       "      <td>0.635</td>\n",
       "      <td>0.618</td>\n",
       "      <td>0.628</td>\n",
       "      <td>0.776</td>\n",
       "      <td>5.000</td>\n",
       "      <td>1.083</td>\n",
       "      <td>5.000</td>\n",
       "      <td>5.000</td>\n",
       "      <td>1.168</td>\n",
       "      <td>Sharp-Right-Turn</td>\n",
       "    </tr>\n",
       "  </tbody>\n",
       "</table>\n",
       "<p>5456 rows × 25 columns</p>\n",
       "</div>"
      ],
      "text/plain": [
       "         0      1      2      3      4      5      6      7      8      9   \\\n",
       "0     0.438  0.498  3.625  3.645  5.000  2.918  5.000  2.351  2.332  2.643   \n",
       "1     0.438  0.498  3.625  3.648  5.000  2.918  5.000  2.637  2.332  2.649   \n",
       "2     0.438  0.498  3.625  3.629  5.000  2.918  5.000  2.637  2.334  2.643   \n",
       "3     0.437  0.501  3.625  3.626  5.000  2.918  5.000  2.353  2.334  2.642   \n",
       "4     0.438  0.498  3.626  3.629  5.000  2.918  5.000  2.640  2.334  2.639   \n",
       "...     ...    ...    ...    ...    ...    ...    ...    ...    ...    ...   \n",
       "5451  0.910  5.000  3.997  2.785  2.770  2.572  2.433  1.087  1.772  1.040   \n",
       "5452  0.926  5.000  4.015  2.792  2.777  2.571  1.768  1.071  1.762  1.021   \n",
       "5453  0.937  5.000  4.034  2.799  2.784  2.571  1.754  1.053  1.752  1.002   \n",
       "5454  0.945  4.052  4.052  2.809  2.791  2.441  1.757  1.034  1.743  0.983   \n",
       "5455  0.950  4.066  5.000  2.819  2.798  2.570  2.422  1.016  1.739  0.964   \n",
       "\n",
       "      ...     15     16     17     18     19     20     21     22     23  \\\n",
       "0     ...  0.593  0.502  0.493  0.504  0.445  0.431  0.444  0.440  0.429   \n",
       "1     ...  0.592  0.502  0.493  0.504  0.449  0.431  0.444  0.443  0.429   \n",
       "2     ...  0.593  0.502  0.493  0.504  0.449  0.431  0.444  0.446  0.429   \n",
       "3     ...  0.593  0.502  0.493  0.504  0.449  0.431  0.444  0.444  0.429   \n",
       "4     ...  0.592  0.502  0.493  0.504  0.449  0.431  0.444  0.441  0.429   \n",
       "...   ...    ...    ...    ...    ...    ...    ...    ...    ...    ...   \n",
       "5451  ...  0.660  0.648  0.657  0.686  5.000  1.045  5.000  5.000  1.562   \n",
       "5452  ...  0.652  0.640  0.649  1.593  1.616  1.058  5.000  5.000  1.085   \n",
       "5453  ...  0.648  0.633  0.642  0.741  5.000  1.065  5.000  5.000  1.105   \n",
       "5454  ...  0.641  0.626  0.635  0.754  5.000  1.076  5.000  5.000  1.118   \n",
       "5455  ...  0.635  0.618  0.628  0.776  5.000  1.083  5.000  5.000  1.168   \n",
       "\n",
       "                     24  \n",
       "0     Slight-Right-Turn  \n",
       "1     Slight-Right-Turn  \n",
       "2     Slight-Right-Turn  \n",
       "3     Slight-Right-Turn  \n",
       "4     Slight-Right-Turn  \n",
       "...                 ...  \n",
       "5451       Move-Forward  \n",
       "5452   Sharp-Right-Turn  \n",
       "5453   Sharp-Right-Turn  \n",
       "5454       Move-Forward  \n",
       "5455   Sharp-Right-Turn  \n",
       "\n",
       "[5456 rows x 25 columns]"
      ]
     },
     "execution_count": 4,
     "metadata": {},
     "output_type": "execute_result"
    }
   ],
   "source": [
    "# Load and shape the dataset\n",
    "DATASETS = {0: ('sensor_readings_2.data', 2), 1: ('sensor_readings_4.data', 4), 2: ('sensor_readings_24.data', 24)}\n",
    "for data in DATASETS:\n",
    "    print(data, ':', DATASETS[data][0])\n",
    "DATA_ID = int(input('Select dataset: '))\n",
    "NUM_SENSORS = DATASETS[DATA_ID][1]\n",
    "NUM_CLASSES = 4\n",
    "input_shape = (1, NUM_CLASSES)\n",
    "df = pd.read_csv(f'Data/{DATASETS[DATA_ID][0]}', header=None)\n",
    "df"
   ]
  },
  {
   "cell_type": "code",
   "execution_count": 5,
   "id": "cfed1a56",
   "metadata": {},
   "outputs": [],
   "source": [
    "num_samples = df.shape[0]\n",
    "directions = {'Move-Forward': 0, 'Sharp-Right-Turn': 1,\n",
    "              'Slight-Right-Turn': 2, 'Slight-Left-Turn': 3}\n",
    "df.iloc[:, -1].replace(directions, inplace=True)\n",
    "df = df.sample(frac=1).reset_index(drop=True)\n",
    "\n",
    "split = lambda df, perc : (df.iloc[:int(perc * df.shape[0])], df.iloc[int(perc * df.shape[0]):])\n",
    "x , y = df.iloc[:, :-1], df.iloc[:, -1]\n",
    "(x_train, x_test), (y_train, y_test) = split(x, 0.9), split(y, 0.9)\n",
    "\n",
    "x_train : np.ndarray = x_train.values.reshape(x_train.shape + (CHANNELS_CNN,))\n",
    "x_test : np.ndarray = x_test.values.reshape(x_test.shape + (CHANNELS_CNN,))\n",
    "\n",
    "\n",
    "y_train = to_categorical(y_train, NUM_CLASSES)\n",
    "y_test = to_categorical(y_test, NUM_CLASSES)\n",
    "#    \n",
    "# The first parameter of 'shape' is the number of samples.\n",
    "num_train_samples = x_train.shape[0]\n",
    "num_batches = int(num_train_samples / BATCH_SIZE)"
   ]
  },
  {
   "cell_type": "code",
   "execution_count": 6,
   "id": "f5f602e7",
   "metadata": {},
   "outputs": [
    {
     "name": "stdout",
     "output_type": "stream",
     "text": [
      "Rows: 4910, columns: 24\n",
      "Rows: 546, columns: 24\n"
     ]
    }
   ],
   "source": [
    "print('Rows: %d, columns: %d' % (x_train.shape[0], x_train.shape[1]))\n",
    "print('Rows: %d, columns: %d' % (x_test.shape[0], x_test.shape[1]))"
   ]
  },
  {
   "cell_type": "code",
   "execution_count": 7,
   "id": "1ccd9d33",
   "metadata": {},
   "outputs": [],
   "source": [
    "# Save the model every epoch, only if the model has improved\n",
    "cp_callback = ModelCheckpoint(checkpoint_str,\n",
    "                              monitor='accuracy',\n",
    "                              save_best_only=True,\n",
    "                              mode='max',\n",
    "                              save_weights_only=False,\n",
    "                              save_freq='epoch',\n",
    "                              #save_freq=5*num_batches,\n",
    "                              verbose=2)\n",
    "tb_callback = keras.callbacks.TensorBoard(log_dir=log_dir,\n",
    "                                          histogram_freq=1)\n",
    "callbacks = [cp_callback, tb_callback]"
   ]
  },
  {
   "cell_type": "code",
   "execution_count": 8,
   "id": "d9779036",
   "metadata": {
    "scrolled": false
   },
   "outputs": [],
   "source": [
    "model = keras.models.Sequential([\n",
    "    keras.layers.Conv1D(filters=96, kernel_size=(11,), activation='relu', input_shape=x_train.shape[1:]),\n",
    "    keras.layers.BatchNormalization(),\n",
    "    #keras.layers.MaxPool1D(pool_size=(3,), strides=(2,)),\n",
    "    keras.layers.Conv1D(filters=256, kernel_size=(5,), activation='relu', padding=\"same\"),\n",
    "    keras.layers.BatchNormalization(),\n",
    "    #keras.layers.MaxPool1D(pool_size=(3,), strides=(2,)),\n",
    "    keras.layers.Conv1D(filters=384, kernel_size=(3,), activation='relu', padding=\"same\"),\n",
    "    keras.layers.BatchNormalization(),\n",
    "    keras.layers.Conv1D(filters=384, kernel_size=(3,), activation='relu', padding=\"same\"),\n",
    "    keras.layers.BatchNormalization(),\n",
    "    keras.layers.Conv1D(filters=256, kernel_size=(3,), activation='relu', padding=\"same\"),\n",
    "    keras.layers.BatchNormalization(),\n",
    "    #keras.layers.MaxPool1D(pool_size=(3,), strides=(2,)),\n",
    "    keras.layers.Flatten(),\n",
    "    keras.layers.Dense(4096, activation='relu'),\n",
    "    keras.layers.Dropout(0.5),\n",
    "    keras.layers.Dense(4096, activation='relu'),\n",
    "    keras.layers.Dropout(0.5),\n",
    "    keras.layers.Dense(NUM_CLASSES, activation='softmax')\n",
    "])"
   ]
  },
  {
   "cell_type": "code",
   "execution_count": 9,
   "id": "9fbf0715",
   "metadata": {},
   "outputs": [],
   "source": [
    "# Compile the currently loaded model\n",
    "opt = tf.keras.optimizers.Adam(0.001)\n",
    "model.compile(loss=keras.losses.categorical_crossentropy, optimizer=opt, metrics=['accuracy'])"
   ]
  },
  {
   "cell_type": "code",
   "execution_count": 10,
   "id": "16865b01",
   "metadata": {
    "scrolled": true
   },
   "outputs": [],
   "source": [
    "import os\n",
    "def delete_folder(folder):\n",
    "    for root, dirs, files in os.walk(folder, topdown=False):\n",
    "        for name in files:\n",
    "            os.remove(os.path.join(root, name))\n",
    "        for name in dirs:\n",
    "            os.rmdir(os.path.join(root, name))"
   ]
  },
  {
   "cell_type": "code",
   "execution_count": 11,
   "id": "dd924706",
   "metadata": {},
   "outputs": [],
   "source": [
    "delete_folder(\"./logs\")\n",
    "delete_folder(\"./graphs\")"
   ]
  },
  {
   "cell_type": "code",
   "execution_count": 12,
   "id": "1ad657e5",
   "metadata": {
    "scrolled": true
   },
   "outputs": [
    {
     "name": "stdout",
     "output_type": "stream",
     "text": [
      "Epoch 1/10\n",
      "1228/1228 [==============================] - 63s 44ms/step - loss: 2.7674 - accuracy: 0.6138 - val_loss: 0.9608 - val_accuracy: 0.7051\n",
      "\n",
      "Epoch 00001: accuracy improved from -inf to 0.61385, saving model to test\\cp_ep10_bsize4_adam.ckpt\n",
      "INFO:tensorflow:Assets written to: test\\cp_ep10_bsize4_adam.ckpt\\assets\n",
      "Epoch 2/10\n",
      "1228/1228 [==============================] - 54s 44ms/step - loss: 1.1004 - accuracy: 0.7002 - val_loss: 0.7369 - val_accuracy: 0.8022\n",
      "\n",
      "Epoch 00002: accuracy improved from 0.61385 to 0.70020, saving model to test\\cp_ep10_bsize4_adam.ckpt\n",
      "INFO:tensorflow:Assets written to: test\\cp_ep10_bsize4_adam.ckpt\\assets\n",
      "Epoch 3/10\n",
      "1228/1228 [==============================] - 53s 43ms/step - loss: 0.8937 - accuracy: 0.7314 - val_loss: 0.9560 - val_accuracy: 0.7253\n",
      "\n",
      "Epoch 00003: accuracy improved from 0.70020 to 0.73136, saving model to test\\cp_ep10_bsize4_adam.ckpt\n",
      "INFO:tensorflow:Assets written to: test\\cp_ep10_bsize4_adam.ckpt\\assets\n",
      "Epoch 4/10\n",
      "1228/1228 [==============================] - 55s 44ms/step - loss: 0.6782 - accuracy: 0.7829 - val_loss: 0.6347 - val_accuracy: 0.8516\n",
      "\n",
      "Epoch 00004: accuracy improved from 0.73136 to 0.78289, saving model to test\\cp_ep10_bsize4_adam.ckpt\n",
      "INFO:tensorflow:Assets written to: test\\cp_ep10_bsize4_adam.ckpt\\assets\n",
      "Epoch 5/10\n",
      "1228/1228 [==============================] - 54s 44ms/step - loss: 0.5111 - accuracy: 0.8305 - val_loss: 0.4014 - val_accuracy: 0.8938\n",
      "\n",
      "Epoch 00005: accuracy improved from 0.78289 to 0.83055, saving model to test\\cp_ep10_bsize4_adam.ckpt\n",
      "INFO:tensorflow:Assets written to: test\\cp_ep10_bsize4_adam.ckpt\\assets\n",
      "Epoch 6/10\n",
      "1228/1228 [==============================] - 55s 45ms/step - loss: 0.4567 - accuracy: 0.8495 - val_loss: 0.4055 - val_accuracy: 0.8608\n",
      "\n",
      "Epoch 00006: accuracy improved from 0.83055 to 0.84949, saving model to test\\cp_ep10_bsize4_adam.ckpt\n",
      "INFO:tensorflow:Assets written to: test\\cp_ep10_bsize4_adam.ckpt\\assets\n",
      "Epoch 7/10\n",
      "1228/1228 [==============================] - 55s 45ms/step - loss: 0.3619 - accuracy: 0.8711 - val_loss: 0.5629 - val_accuracy: 0.8388\n",
      "\n",
      "Epoch 00007: accuracy improved from 0.84949 to 0.87108, saving model to test\\cp_ep10_bsize4_adam.ckpt\n",
      "INFO:tensorflow:Assets written to: test\\cp_ep10_bsize4_adam.ckpt\\assets\n",
      "Epoch 8/10\n",
      "1228/1228 [==============================] - 54s 44ms/step - loss: 0.3617 - accuracy: 0.8749 - val_loss: 0.2730 - val_accuracy: 0.9212\n",
      "\n",
      "Epoch 00008: accuracy improved from 0.87108 to 0.87495, saving model to test\\cp_ep10_bsize4_adam.ckpt\n",
      "INFO:tensorflow:Assets written to: test\\cp_ep10_bsize4_adam.ckpt\\assets\n",
      "Epoch 9/10\n",
      "1228/1228 [==============================] - 55s 44ms/step - loss: 0.3644 - accuracy: 0.8703 - val_loss: 0.3060 - val_accuracy: 0.9066\n",
      "\n",
      "Epoch 00009: accuracy did not improve from 0.87495\n",
      "Epoch 10/10\n",
      "1228/1228 [==============================] - 54s 44ms/step - loss: 0.3250 - accuracy: 0.8900 - val_loss: 0.2817 - val_accuracy: 0.9048\n",
      "\n",
      "Epoch 00010: accuracy improved from 0.87495 to 0.89002, saving model to test\\cp_ep10_bsize4_adam.ckpt\n",
      "INFO:tensorflow:Assets written to: test\\cp_ep10_bsize4_adam.ckpt\\assets\n"
     ]
    }
   ],
   "source": [
    "# Train the currently loaded model\n",
    "history = model.fit(x_train, y_train,\n",
    "                    batch_size=BATCH_SIZE,\n",
    "                    epochs=EPOCHS,\n",
    "                    verbose=1,\n",
    "                    validation_data=(x_test, y_test),\n",
    "                    callbacks=callbacks)"
   ]
  },
  {
   "cell_type": "code",
   "execution_count": 13,
   "id": "930570fe",
   "metadata": {},
   "outputs": [
    {
     "name": "stdout",
     "output_type": "stream",
     "text": [
      "loss:  0.2584766745567322\n",
      "score:  0.9120162725448608\n"
     ]
    }
   ],
   "source": [
    "# Evaluate the model on the training set\n",
    "score = model.evaluate(x_train, y_train, verbose=0)\n",
    "print('loss: ', score[0])\n",
    "print('score: ', score[1])"
   ]
  },
  {
   "cell_type": "code",
   "execution_count": 14,
   "id": "36eee814",
   "metadata": {},
   "outputs": [
    {
     "name": "stdout",
     "output_type": "stream",
     "text": [
      "loss:  0.281747967004776\n",
      "score:  0.9047619104385376\n"
     ]
    }
   ],
   "source": [
    "# Evaluate the model on the test set\n",
    "score = model.evaluate(x_test, y_test, verbose=0)\n",
    "print('loss: ', score[0])\n",
    "print('score: ', score[1])"
   ]
  },
  {
   "cell_type": "code",
   "execution_count": 15,
   "id": "dbe29642",
   "metadata": {},
   "outputs": [],
   "source": [
    "# Log the data obtained by the last evaluation\n",
    "with open('log.txt', 'a') as file:\n",
    "    file.write('File name: ' + checkpoint_str + '\\n')\n",
    "    file.write('loss: ' + str(score[0]) + '\\n')\n",
    "    file.write('score: ' + str(score[1]) + '\\n')\n",
    "    file.write('accuracy: ')\n",
    "    file.write(str(history.history['accuracy'][-1]) + '\\n')\n",
    "    file.write('\\n')\n",
    "\n",
    "    file.close()"
   ]
  },
  {
   "cell_type": "code",
   "execution_count": 16,
   "id": "9ee2a8e5",
   "metadata": {},
   "outputs": [
    {
     "name": "stdout",
     "output_type": "stream",
     "text": [
      "Model: \"sequential\"\n",
      "_________________________________________________________________\n",
      "Layer (type)                 Output Shape              Param #   \n",
      "=================================================================\n",
      "conv1d (Conv1D)              (None, 14, 96)            1152      \n",
      "_________________________________________________________________\n",
      "batch_normalization (BatchNo (None, 14, 96)            384       \n",
      "_________________________________________________________________\n",
      "conv1d_1 (Conv1D)            (None, 14, 256)           123136    \n",
      "_________________________________________________________________\n",
      "batch_normalization_1 (Batch (None, 14, 256)           1024      \n",
      "_________________________________________________________________\n",
      "conv1d_2 (Conv1D)            (None, 14, 384)           295296    \n",
      "_________________________________________________________________\n",
      "batch_normalization_2 (Batch (None, 14, 384)           1536      \n",
      "_________________________________________________________________\n",
      "conv1d_3 (Conv1D)            (None, 14, 384)           442752    \n",
      "_________________________________________________________________\n",
      "batch_normalization_3 (Batch (None, 14, 384)           1536      \n",
      "_________________________________________________________________\n",
      "conv1d_4 (Conv1D)            (None, 14, 256)           295168    \n",
      "_________________________________________________________________\n",
      "batch_normalization_4 (Batch (None, 14, 256)           1024      \n",
      "_________________________________________________________________\n",
      "flatten (Flatten)            (None, 3584)              0         \n",
      "_________________________________________________________________\n",
      "dense (Dense)                (None, 4096)              14684160  \n",
      "_________________________________________________________________\n",
      "dropout (Dropout)            (None, 4096)              0         \n",
      "_________________________________________________________________\n",
      "dense_1 (Dense)              (None, 4096)              16781312  \n",
      "_________________________________________________________________\n",
      "dropout_1 (Dropout)          (None, 4096)              0         \n",
      "_________________________________________________________________\n",
      "dense_2 (Dense)              (None, 4)                 16388     \n",
      "=================================================================\n",
      "Total params: 32,644,868\n",
      "Trainable params: 32,642,116\n",
      "Non-trainable params: 2,752\n",
      "_________________________________________________________________\n"
     ]
    }
   ],
   "source": [
    "# Load the model and print a summary of its structure\n",
    "model = tf.keras.models.load_model('./' + checkpoint_str)\n",
    "model.summary()"
   ]
  },
  {
   "cell_type": "code",
   "execution_count": 17,
   "id": "7aaaadfa",
   "metadata": {
    "scrolled": false
   },
   "outputs": [
    {
     "data": {
      "application/vnd.jupyter.widget-view+json": {
       "model_id": "e21ba981bb8c46d1b39abf3a664876df",
       "version_major": 2,
       "version_minor": 0
      },
      "text/plain": [
       "Canvas(toolbar=Toolbar(toolitems=[('Home', 'Reset original view', 'home', 'home'), ('Back', 'Back to previous …"
      ]
     },
     "metadata": {},
     "output_type": "display_data"
    },
    {
     "data": {
      "application/vnd.jupyter.widget-view+json": {
       "model_id": "134adf280c14401ea784ed658661f481",
       "version_major": 2,
       "version_minor": 0
      },
      "text/plain": [
       "Canvas(toolbar=Toolbar(toolitems=[('Home', 'Reset original view', 'home', 'home'), ('Back', 'Back to previous …"
      ]
     },
     "metadata": {},
     "output_type": "display_data"
    }
   ],
   "source": [
    "# plotting\n",
    "fig1, ax1 = plt.subplots(figsize=(10, 5))\n",
    "fig2, ax2 = plt.subplots(figsize=(10, 5))\n",
    "\n",
    "# summarize history for accuracy\n",
    "ax1.plot(history.history['accuracy'])\n",
    "ax1.plot(history.history['val_accuracy'])\n",
    "ax1.set_title('model accuracy ' + str(score[1]))\n",
    "ax1.set_ylabel('accuracy')\n",
    "ax1.set_xlabel('epoch')\n",
    "ax1.legend(['train', 'test'], loc='upper left')\n",
    "plt.savefig('./graphs/Accuracy')\n",
    "plt.show()\n",
    "\n",
    "\n",
    "# summarize history for loss\n",
    "ax2.plot(history.history['loss'])\n",
    "ax2.plot(history.history['val_loss'])\n",
    "ax2.set_title('model loss ' + str(score[0]))\n",
    "ax2.set_ylabel('loss')\n",
    "ax2.set_xlabel('epoch')\n",
    "ax2.legend(['train', 'test'], loc='upper left')\n",
    "plt.savefig('./graphs/Loss')\n",
    "plt.show()   "
   ]
  },
  {
   "cell_type": "code",
   "execution_count": 18,
   "id": "1995ecbe",
   "metadata": {},
   "outputs": [],
   "source": [
    "import sys\n",
    "np.set_printoptions(threshold=sys.maxsize)"
   ]
  },
  {
   "cell_type": "code",
   "execution_count": 19,
   "id": "7d5088ab",
   "metadata": {},
   "outputs": [],
   "source": [
    "class_labels = list(directions.keys())"
   ]
  },
  {
   "cell_type": "code",
   "execution_count": 20,
   "id": "5ae3932c",
   "metadata": {},
   "outputs": [
    {
     "data": {
      "text/plain": [
       "array([[208,  17,   6,   5],\n",
       "       [  9, 192,   5,   3],\n",
       "       [  5,   0,  69,   0],\n",
       "       [  1,   1,   0,  25]], dtype=int64)"
      ]
     },
     "execution_count": 20,
     "metadata": {},
     "output_type": "execute_result"
    }
   ],
   "source": [
    "rounded_labels=np.argmax(y_test, axis=1)\n",
    "y_pred=model.predict(x_test)\n",
    "rounded_predictions=np.argmax(y_pred, axis=1)\n",
    "cm = metrics.confusion_matrix(rounded_labels, rounded_predictions)\n",
    "cm"
   ]
  },
  {
   "cell_type": "code",
   "execution_count": 21,
   "id": "084297df",
   "metadata": {
    "scrolled": true
   },
   "outputs": [
    {
     "data": {
      "application/vnd.jupyter.widget-view+json": {
       "model_id": "0b675590fd6c4bb68824c8b1b8341e6a",
       "version_major": 2,
       "version_minor": 0
      },
      "text/plain": [
       "Canvas(toolbar=Toolbar(toolitems=[('Home', 'Reset original view', 'home', 'home'), ('Back', 'Back to previous …"
      ]
     },
     "metadata": {},
     "output_type": "display_data"
    }
   ],
   "source": [
    "import seaborn as sn\n",
    "plt.figure(figsize = (10,7))\n",
    "sn.heatmap(cm, annot=True, annot_kws={\"size\": 16})\n",
    "plt.show()"
   ]
  },
  {
   "cell_type": "code",
   "execution_count": 23,
   "id": "a37de4d1",
   "metadata": {
    "scrolled": true
   },
   "outputs": [
    {
     "ename": "ValueError",
     "evalue": "Found array with dim 3. Estimator expected <= 2.",
     "output_type": "error",
     "traceback": [
      "\u001b[1;31m---------------------------------------------------------------------------\u001b[0m",
      "\u001b[1;31mValueError\u001b[0m                                Traceback (most recent call last)",
      "\u001b[1;32m<ipython-input-23-60cf8849868f>\u001b[0m in \u001b[0;36m<module>\u001b[1;34m\u001b[0m\n\u001b[0;32m      4\u001b[0m \u001b[1;33m\u001b[0m\u001b[0m\n\u001b[0;32m      5\u001b[0m \u001b[1;31m# Summarize the training set to accelerate analysis\u001b[0m\u001b[1;33m\u001b[0m\u001b[1;33m\u001b[0m\u001b[1;33m\u001b[0m\u001b[0m\n\u001b[1;32m----> 6\u001b[1;33m \u001b[0mdf_train_normed_summary\u001b[0m \u001b[1;33m=\u001b[0m \u001b[0mshap\u001b[0m\u001b[1;33m.\u001b[0m\u001b[0mkmeans\u001b[0m\u001b[1;33m(\u001b[0m\u001b[0mx_train\u001b[0m\u001b[1;33m,\u001b[0m \u001b[1;36m10\u001b[0m\u001b[1;33m)\u001b[0m\u001b[1;33m\u001b[0m\u001b[1;33m\u001b[0m\u001b[0m\n\u001b[0m\u001b[0;32m      7\u001b[0m \u001b[1;33m\u001b[0m\u001b[0m\n\u001b[0;32m      8\u001b[0m \u001b[1;31m# Instantiate an explainer with the model predictions and training data summary\u001b[0m\u001b[1;33m\u001b[0m\u001b[1;33m\u001b[0m\u001b[1;33m\u001b[0m\u001b[0m\n",
      "\u001b[1;32m~\\anaconda3\\envs\\tf-gpu\\lib\\site-packages\\shap\\utils\\_legacy.py\u001b[0m in \u001b[0;36mkmeans\u001b[1;34m(X, k, round_values)\u001b[0m\n\u001b[0;32m     35\u001b[0m     \u001b[1;31m# in case there are any missing values in data impute them\u001b[0m\u001b[1;33m\u001b[0m\u001b[1;33m\u001b[0m\u001b[1;33m\u001b[0m\u001b[0m\n\u001b[0;32m     36\u001b[0m     \u001b[0mimp\u001b[0m \u001b[1;33m=\u001b[0m \u001b[0mSimpleImputer\u001b[0m\u001b[1;33m(\u001b[0m\u001b[0mmissing_values\u001b[0m\u001b[1;33m=\u001b[0m\u001b[0mnp\u001b[0m\u001b[1;33m.\u001b[0m\u001b[0mnan\u001b[0m\u001b[1;33m,\u001b[0m \u001b[0mstrategy\u001b[0m\u001b[1;33m=\u001b[0m\u001b[1;34m'mean'\u001b[0m\u001b[1;33m)\u001b[0m\u001b[1;33m\u001b[0m\u001b[1;33m\u001b[0m\u001b[0m\n\u001b[1;32m---> 37\u001b[1;33m     \u001b[0mX\u001b[0m \u001b[1;33m=\u001b[0m \u001b[0mimp\u001b[0m\u001b[1;33m.\u001b[0m\u001b[0mfit_transform\u001b[0m\u001b[1;33m(\u001b[0m\u001b[0mX\u001b[0m\u001b[1;33m)\u001b[0m\u001b[1;33m\u001b[0m\u001b[1;33m\u001b[0m\u001b[0m\n\u001b[0m\u001b[0;32m     38\u001b[0m \u001b[1;33m\u001b[0m\u001b[0m\n\u001b[0;32m     39\u001b[0m     \u001b[0mkmeans\u001b[0m \u001b[1;33m=\u001b[0m \u001b[0mKMeans\u001b[0m\u001b[1;33m(\u001b[0m\u001b[0mn_clusters\u001b[0m\u001b[1;33m=\u001b[0m\u001b[0mk\u001b[0m\u001b[1;33m,\u001b[0m \u001b[0mrandom_state\u001b[0m\u001b[1;33m=\u001b[0m\u001b[1;36m0\u001b[0m\u001b[1;33m)\u001b[0m\u001b[1;33m.\u001b[0m\u001b[0mfit\u001b[0m\u001b[1;33m(\u001b[0m\u001b[0mX\u001b[0m\u001b[1;33m)\u001b[0m\u001b[1;33m\u001b[0m\u001b[1;33m\u001b[0m\u001b[0m\n",
      "\u001b[1;32m~\\anaconda3\\envs\\tf-gpu\\lib\\site-packages\\sklearn\\base.py\u001b[0m in \u001b[0;36mfit_transform\u001b[1;34m(self, X, y, **fit_params)\u001b[0m\n\u001b[0;32m    697\u001b[0m         \u001b[1;32mif\u001b[0m \u001b[0my\u001b[0m \u001b[1;32mis\u001b[0m \u001b[1;32mNone\u001b[0m\u001b[1;33m:\u001b[0m\u001b[1;33m\u001b[0m\u001b[1;33m\u001b[0m\u001b[0m\n\u001b[0;32m    698\u001b[0m             \u001b[1;31m# fit method of arity 1 (unsupervised transformation)\u001b[0m\u001b[1;33m\u001b[0m\u001b[1;33m\u001b[0m\u001b[1;33m\u001b[0m\u001b[0m\n\u001b[1;32m--> 699\u001b[1;33m             \u001b[1;32mreturn\u001b[0m \u001b[0mself\u001b[0m\u001b[1;33m.\u001b[0m\u001b[0mfit\u001b[0m\u001b[1;33m(\u001b[0m\u001b[0mX\u001b[0m\u001b[1;33m,\u001b[0m \u001b[1;33m**\u001b[0m\u001b[0mfit_params\u001b[0m\u001b[1;33m)\u001b[0m\u001b[1;33m.\u001b[0m\u001b[0mtransform\u001b[0m\u001b[1;33m(\u001b[0m\u001b[0mX\u001b[0m\u001b[1;33m)\u001b[0m\u001b[1;33m\u001b[0m\u001b[1;33m\u001b[0m\u001b[0m\n\u001b[0m\u001b[0;32m    700\u001b[0m         \u001b[1;32melse\u001b[0m\u001b[1;33m:\u001b[0m\u001b[1;33m\u001b[0m\u001b[1;33m\u001b[0m\u001b[0m\n\u001b[0;32m    701\u001b[0m             \u001b[1;31m# fit method of arity 2 (supervised transformation)\u001b[0m\u001b[1;33m\u001b[0m\u001b[1;33m\u001b[0m\u001b[1;33m\u001b[0m\u001b[0m\n",
      "\u001b[1;32m~\\anaconda3\\envs\\tf-gpu\\lib\\site-packages\\sklearn\\impute\\_base.py\u001b[0m in \u001b[0;36mfit\u001b[1;34m(self, X, y)\u001b[0m\n\u001b[0;32m    286\u001b[0m         \u001b[0mself\u001b[0m \u001b[1;33m:\u001b[0m \u001b[0mSimpleImputer\u001b[0m\u001b[1;33m\u001b[0m\u001b[1;33m\u001b[0m\u001b[0m\n\u001b[0;32m    287\u001b[0m         \"\"\"\n\u001b[1;32m--> 288\u001b[1;33m         \u001b[0mX\u001b[0m \u001b[1;33m=\u001b[0m \u001b[0mself\u001b[0m\u001b[1;33m.\u001b[0m\u001b[0m_validate_input\u001b[0m\u001b[1;33m(\u001b[0m\u001b[0mX\u001b[0m\u001b[1;33m,\u001b[0m \u001b[0min_fit\u001b[0m\u001b[1;33m=\u001b[0m\u001b[1;32mTrue\u001b[0m\u001b[1;33m)\u001b[0m\u001b[1;33m\u001b[0m\u001b[1;33m\u001b[0m\u001b[0m\n\u001b[0m\u001b[0;32m    289\u001b[0m \u001b[1;33m\u001b[0m\u001b[0m\n\u001b[0;32m    290\u001b[0m         \u001b[1;31m# default fill_value is 0 for numerical input and \"missing_value\"\u001b[0m\u001b[1;33m\u001b[0m\u001b[1;33m\u001b[0m\u001b[1;33m\u001b[0m\u001b[0m\n",
      "\u001b[1;32m~\\anaconda3\\envs\\tf-gpu\\lib\\site-packages\\sklearn\\impute\\_base.py\u001b[0m in \u001b[0;36m_validate_input\u001b[1;34m(self, X, in_fit)\u001b[0m\n\u001b[0;32m    260\u001b[0m                 \u001b[1;32mraise\u001b[0m \u001b[0mnew_ve\u001b[0m \u001b[1;32mfrom\u001b[0m \u001b[1;32mNone\u001b[0m\u001b[1;33m\u001b[0m\u001b[1;33m\u001b[0m\u001b[0m\n\u001b[0;32m    261\u001b[0m             \u001b[1;32melse\u001b[0m\u001b[1;33m:\u001b[0m\u001b[1;33m\u001b[0m\u001b[1;33m\u001b[0m\u001b[0m\n\u001b[1;32m--> 262\u001b[1;33m                 \u001b[1;32mraise\u001b[0m \u001b[0mve\u001b[0m\u001b[1;33m\u001b[0m\u001b[1;33m\u001b[0m\u001b[0m\n\u001b[0m\u001b[0;32m    263\u001b[0m \u001b[1;33m\u001b[0m\u001b[0m\n\u001b[0;32m    264\u001b[0m         \u001b[0m_check_inputs_dtype\u001b[0m\u001b[1;33m(\u001b[0m\u001b[0mX\u001b[0m\u001b[1;33m,\u001b[0m \u001b[0mself\u001b[0m\u001b[1;33m.\u001b[0m\u001b[0mmissing_values\u001b[0m\u001b[1;33m)\u001b[0m\u001b[1;33m\u001b[0m\u001b[1;33m\u001b[0m\u001b[0m\n",
      "\u001b[1;32m~\\anaconda3\\envs\\tf-gpu\\lib\\site-packages\\sklearn\\impute\\_base.py\u001b[0m in \u001b[0;36m_validate_input\u001b[1;34m(self, X, in_fit)\u001b[0m\n\u001b[0;32m    250\u001b[0m \u001b[1;33m\u001b[0m\u001b[0m\n\u001b[0;32m    251\u001b[0m         \u001b[1;32mtry\u001b[0m\u001b[1;33m:\u001b[0m\u001b[1;33m\u001b[0m\u001b[1;33m\u001b[0m\u001b[0m\n\u001b[1;32m--> 252\u001b[1;33m             X = self._validate_data(X, reset=in_fit,\n\u001b[0m\u001b[0;32m    253\u001b[0m                                     \u001b[0maccept_sparse\u001b[0m\u001b[1;33m=\u001b[0m\u001b[1;34m'csc'\u001b[0m\u001b[1;33m,\u001b[0m \u001b[0mdtype\u001b[0m\u001b[1;33m=\u001b[0m\u001b[0mdtype\u001b[0m\u001b[1;33m,\u001b[0m\u001b[1;33m\u001b[0m\u001b[1;33m\u001b[0m\u001b[0m\n\u001b[0;32m    254\u001b[0m                                     \u001b[0mforce_all_finite\u001b[0m\u001b[1;33m=\u001b[0m\u001b[0mforce_all_finite\u001b[0m\u001b[1;33m,\u001b[0m\u001b[1;33m\u001b[0m\u001b[1;33m\u001b[0m\u001b[0m\n",
      "\u001b[1;32m~\\anaconda3\\envs\\tf-gpu\\lib\\site-packages\\sklearn\\base.py\u001b[0m in \u001b[0;36m_validate_data\u001b[1;34m(self, X, y, reset, validate_separately, **check_params)\u001b[0m\n\u001b[0;32m    419\u001b[0m             \u001b[0mout\u001b[0m \u001b[1;33m=\u001b[0m \u001b[0mX\u001b[0m\u001b[1;33m\u001b[0m\u001b[1;33m\u001b[0m\u001b[0m\n\u001b[0;32m    420\u001b[0m         \u001b[1;32melif\u001b[0m \u001b[0misinstance\u001b[0m\u001b[1;33m(\u001b[0m\u001b[0my\u001b[0m\u001b[1;33m,\u001b[0m \u001b[0mstr\u001b[0m\u001b[1;33m)\u001b[0m \u001b[1;32mand\u001b[0m \u001b[0my\u001b[0m \u001b[1;33m==\u001b[0m \u001b[1;34m'no_validation'\u001b[0m\u001b[1;33m:\u001b[0m\u001b[1;33m\u001b[0m\u001b[1;33m\u001b[0m\u001b[0m\n\u001b[1;32m--> 421\u001b[1;33m             \u001b[0mX\u001b[0m \u001b[1;33m=\u001b[0m \u001b[0mcheck_array\u001b[0m\u001b[1;33m(\u001b[0m\u001b[0mX\u001b[0m\u001b[1;33m,\u001b[0m \u001b[1;33m**\u001b[0m\u001b[0mcheck_params\u001b[0m\u001b[1;33m)\u001b[0m\u001b[1;33m\u001b[0m\u001b[1;33m\u001b[0m\u001b[0m\n\u001b[0m\u001b[0;32m    422\u001b[0m             \u001b[0mout\u001b[0m \u001b[1;33m=\u001b[0m \u001b[0mX\u001b[0m\u001b[1;33m\u001b[0m\u001b[1;33m\u001b[0m\u001b[0m\n\u001b[0;32m    423\u001b[0m         \u001b[1;32melse\u001b[0m\u001b[1;33m:\u001b[0m\u001b[1;33m\u001b[0m\u001b[1;33m\u001b[0m\u001b[0m\n",
      "\u001b[1;32m~\\anaconda3\\envs\\tf-gpu\\lib\\site-packages\\sklearn\\utils\\validation.py\u001b[0m in \u001b[0;36minner_f\u001b[1;34m(*args, **kwargs)\u001b[0m\n\u001b[0;32m     61\u001b[0m             \u001b[0mextra_args\u001b[0m \u001b[1;33m=\u001b[0m \u001b[0mlen\u001b[0m\u001b[1;33m(\u001b[0m\u001b[0margs\u001b[0m\u001b[1;33m)\u001b[0m \u001b[1;33m-\u001b[0m \u001b[0mlen\u001b[0m\u001b[1;33m(\u001b[0m\u001b[0mall_args\u001b[0m\u001b[1;33m)\u001b[0m\u001b[1;33m\u001b[0m\u001b[1;33m\u001b[0m\u001b[0m\n\u001b[0;32m     62\u001b[0m             \u001b[1;32mif\u001b[0m \u001b[0mextra_args\u001b[0m \u001b[1;33m<=\u001b[0m \u001b[1;36m0\u001b[0m\u001b[1;33m:\u001b[0m\u001b[1;33m\u001b[0m\u001b[1;33m\u001b[0m\u001b[0m\n\u001b[1;32m---> 63\u001b[1;33m                 \u001b[1;32mreturn\u001b[0m \u001b[0mf\u001b[0m\u001b[1;33m(\u001b[0m\u001b[1;33m*\u001b[0m\u001b[0margs\u001b[0m\u001b[1;33m,\u001b[0m \u001b[1;33m**\u001b[0m\u001b[0mkwargs\u001b[0m\u001b[1;33m)\u001b[0m\u001b[1;33m\u001b[0m\u001b[1;33m\u001b[0m\u001b[0m\n\u001b[0m\u001b[0;32m     64\u001b[0m \u001b[1;33m\u001b[0m\u001b[0m\n\u001b[0;32m     65\u001b[0m             \u001b[1;31m# extra_args > 0\u001b[0m\u001b[1;33m\u001b[0m\u001b[1;33m\u001b[0m\u001b[1;33m\u001b[0m\u001b[0m\n",
      "\u001b[1;32m~\\anaconda3\\envs\\tf-gpu\\lib\\site-packages\\sklearn\\utils\\validation.py\u001b[0m in \u001b[0;36mcheck_array\u001b[1;34m(array, accept_sparse, accept_large_sparse, dtype, order, copy, force_all_finite, ensure_2d, allow_nd, ensure_min_samples, ensure_min_features, estimator)\u001b[0m\n\u001b[0;32m    714\u001b[0m                     \"into decimal numbers with dtype='numeric'\") from e\n\u001b[0;32m    715\u001b[0m         \u001b[1;32mif\u001b[0m \u001b[1;32mnot\u001b[0m \u001b[0mallow_nd\u001b[0m \u001b[1;32mand\u001b[0m \u001b[0marray\u001b[0m\u001b[1;33m.\u001b[0m\u001b[0mndim\u001b[0m \u001b[1;33m>=\u001b[0m \u001b[1;36m3\u001b[0m\u001b[1;33m:\u001b[0m\u001b[1;33m\u001b[0m\u001b[1;33m\u001b[0m\u001b[0m\n\u001b[1;32m--> 716\u001b[1;33m             raise ValueError(\"Found array with dim %d. %s expected <= 2.\"\n\u001b[0m\u001b[0;32m    717\u001b[0m                              % (array.ndim, estimator_name))\n\u001b[0;32m    718\u001b[0m \u001b[1;33m\u001b[0m\u001b[0m\n",
      "\u001b[1;31mValueError\u001b[0m: Found array with dim 3. Estimator expected <= 2."
     ]
    }
   ],
   "source": [
    "import shap\n",
    "# KernelExplainer is a general approach that can work with any ML framework\n",
    "# Its inputs are the predictions and training data\n",
    "\n",
    "# Summarize the training set to accelerate analysis\n",
    "df_train_normed_summary = shap.kmeans(x_train, 10)\n",
    "\n",
    "# Instantiate an explainer with the model predictions and training data summary\n",
    "explainer = shap.KernelExplainer(model.predict, df_train_normed_summary)\n",
    "\n",
    "# Extract Shapley values from the explainer\n",
    "shap_values = explainer.shap_values(x_train)"
   ]
  },
  {
   "cell_type": "code",
   "execution_count": null,
   "id": "b4bafae3",
   "metadata": {},
   "outputs": [],
   "source": [
    "np.savetxt('shap0.txt', shap_values[0])\n",
    "np.savetxt('shap1.txt', shap_values[1])\n",
    "np.savetxt('shap2.txt', shap_values[2])\n",
    "np.savetxt('shap3.txt', shap_values[3])"
   ]
  },
  {
   "cell_type": "code",
   "execution_count": null,
   "id": "aaa5e5e0",
   "metadata": {},
   "outputs": [],
   "source": [
    "# Summarize the Shapley values in a plot\n",
    "shap.initjs()\n",
    "plt.figure(figsize = (12,10))\n",
    "shap.summary_plot(shap_values[1], x_train)"
   ]
  },
  {
   "cell_type": "code",
   "execution_count": null,
   "id": "70429945",
   "metadata": {},
   "outputs": [],
   "source": [
    "shap.force_plot(explainer.expected_value[0], shap_values[0][0,:], x_test.iloc[0,:], link=\"logit\")"
   ]
  },
  {
   "cell_type": "code",
   "execution_count": null,
   "id": "2daf4f9a",
   "metadata": {},
   "outputs": [],
   "source": [
    "shap.dependence_plot(1, shap_values[1], x_train, interaction_index=1)"
   ]
  },
  {
   "cell_type": "code",
   "execution_count": null,
   "id": "c1eccb03",
   "metadata": {},
   "outputs": [],
   "source": []
  }
 ],
 "metadata": {
  "kernelspec": {
   "display_name": "Python 3",
   "language": "python",
   "name": "python3"
  },
  "language_info": {
   "codemirror_mode": {
    "name": "ipython",
    "version": 3
   },
   "file_extension": ".py",
   "mimetype": "text/x-python",
   "name": "python",
   "nbconvert_exporter": "python",
   "pygments_lexer": "ipython3",
   "version": "3.9.5"
  }
 },
 "nbformat": 4,
 "nbformat_minor": 5
}
